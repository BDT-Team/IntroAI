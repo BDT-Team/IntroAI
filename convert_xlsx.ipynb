{
 "cells": [
  {
   "cell_type": "code",
   "execution_count": 3,
   "metadata": {},
   "outputs": [],
   "source": [
    "import numpy as np\n",
    "import pandas as pd\n",
    "import openpyxl\n",
    "import csv"
   ]
  },
  {
   "attachments": {},
   "cell_type": "markdown",
   "metadata": {},
   "source": [
    "## Read files"
   ]
  },
  {
   "cell_type": "code",
   "execution_count": 5,
   "metadata": {},
   "outputs": [],
   "source": [
    "with open(\"comments.txt\", \"r\", encoding=\"utf-8\") as f:\n",
    "    data = []\n",
    "    reader = csv.reader(f, delimiter=\"\\t\")\n",
    "    for row in reader:\n",
    "        for column in row:\n",
    "            data.append([column])\n",
    "    "
   ]
  },
  {
   "cell_type": "code",
   "execution_count": 6,
   "metadata": {},
   "outputs": [
    {
     "data": {
      "text/plain": [
       "['Sản phẩm đóng góp kĩ .date xa, shop gửi hàng nhanh, đặc biệt shipper thân thiện dễ thương']"
      ]
     },
     "execution_count": 6,
     "metadata": {},
     "output_type": "execute_result"
    }
   ],
   "source": [
    "data[0]"
   ]
  },
  {
   "attachments": {},
   "cell_type": "markdown",
   "metadata": {},
   "source": [
    "## Write to .csv"
   ]
  },
  {
   "cell_type": "code",
   "execution_count": 25,
   "metadata": {},
   "outputs": [
    {
     "name": "stdout",
     "output_type": "stream",
     "text": [
      "                                            comments\n",
      "0  Sản phẩm đóng góp kĩ .date xa, shop gửi hàng n...\n",
      "1  mình ăn nhiều lần rồi ko ngán, mua hoài luôn. ...\n",
      "2  ngon vl ăn 1 lần nghiện cmn luôn ạaaaa!!! đáng...\n",
      "3  Ngũ cốc calbee ngon khỏi bàn luôn, giòn giòn, ...\n",
      "4  Giao đúng hàng đúng hạn đúng sản phẳm chất lượ...\n"
     ]
    }
   ],
   "source": [
    "df = pd.DataFrame(data, columns=[\"comments\"])\n",
    "print(df.head())"
   ]
  },
  {
   "cell_type": "code",
   "execution_count": 30,
   "metadata": {},
   "outputs": [],
   "source": [
    "df.to_csv('comments.csv', encoding='utf-8', index=False)"
   ]
  },
  {
   "attachments": {},
   "cell_type": "markdown",
   "metadata": {},
   "source": [
    "## Write to .xlsx"
   ]
  },
  {
   "cell_type": "code",
   "execution_count": 8,
   "metadata": {},
   "outputs": [],
   "source": [
    "with open(\"comments.txt\", \"r\", encoding=\"utf-8\") as f:\n",
    "    data = []\n",
    "    reader = csv.reader(f, delimiter=\"\\t\")\n",
    "    for row in reader:\n",
    "        for column in row:\n",
    "            data.append([column, 0, 0])"
   ]
  },
  {
   "cell_type": "code",
   "execution_count": 9,
   "metadata": {},
   "outputs": [
    {
     "name": "stdout",
     "output_type": "stream",
     "text": [
      "                                            comments  spam  sentiment\n",
      "0  Sản phẩm đóng góp kĩ .date xa, shop gửi hàng n...     0          0\n",
      "1  mình ăn nhiều lần rồi ko ngán, mua hoài luôn. ...     0          0\n",
      "2  ngon vl ăn 1 lần nghiện cmn luôn ạaaaa!!! đáng...     0          0\n",
      "3  Ngũ cốc calbee ngon khỏi bàn luôn, giòn giòn, ...     0          0\n",
      "4  Giao đúng hàng đúng hạn đúng sản phẳm chất lượ...     0          0\n"
     ]
    }
   ],
   "source": [
    "df = pd.DataFrame(data, columns=[\"comments\", \"spam\", \"sentiment\"])\n",
    "print(df.head())"
   ]
  },
  {
   "cell_type": "code",
   "execution_count": 10,
   "metadata": {},
   "outputs": [],
   "source": [
    "df.to_excel(\"comments.xlsx\", sheet_name='Sheet1', index=False)"
   ]
  },
  {
   "cell_type": "code",
   "execution_count": null,
   "metadata": {},
   "outputs": [],
   "source": []
  }
 ],
 "metadata": {
  "kernelspec": {
   "display_name": "Python 3",
   "language": "python",
   "name": "python3"
  },
  "language_info": {
   "codemirror_mode": {
    "name": "ipython",
    "version": 3
   },
   "file_extension": ".py",
   "mimetype": "text/x-python",
   "name": "python",
   "nbconvert_exporter": "python",
   "pygments_lexer": "ipython3",
   "version": "3.8.3"
  },
  "orig_nbformat": 4
 },
 "nbformat": 4,
 "nbformat_minor": 2
}
