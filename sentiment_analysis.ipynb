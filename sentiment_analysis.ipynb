{
 "cells": [
  {
   "cell_type": "code",
   "execution_count": null,
   "metadata": {},
   "outputs": [],
   "source": [
    "import sklearn\n",
    "import numpy as np\n",
    "import pandas as pd\n",
    "from sklearn.model_selection import train_test_split"
   ]
  },
  {
   "cell_type": "code",
   "execution_count": 41,
   "metadata": {},
   "outputs": [
    {
     "data": {
      "text/html": [
       "<div>\n",
       "<style scoped>\n",
       "    .dataframe tbody tr th:only-of-type {\n",
       "        vertical-align: middle;\n",
       "    }\n",
       "\n",
       "    .dataframe tbody tr th {\n",
       "        vertical-align: top;\n",
       "    }\n",
       "\n",
       "    .dataframe thead th {\n",
       "        text-align: right;\n",
       "    }\n",
       "</style>\n",
       "<table border=\"1\" class=\"dataframe\">\n",
       "  <thead>\n",
       "    <tr style=\"text-align: right;\">\n",
       "      <th></th>\n",
       "      <th>content</th>\n",
       "      <th>label</th>\n",
       "    </tr>\n",
       "  </thead>\n",
       "  <tbody>\n",
       "    <tr>\n",
       "      <th>0</th>\n",
       "      <td>Áo bao đẹp ạ!</td>\n",
       "      <td>POS</td>\n",
       "    </tr>\n",
       "    <tr>\n",
       "      <th>1</th>\n",
       "      <td>Tuyệt vời</td>\n",
       "      <td>POS</td>\n",
       "    </tr>\n",
       "    <tr>\n",
       "      <th>2</th>\n",
       "      <td>2day ao khong giong trong</td>\n",
       "      <td>NEG</td>\n",
       "    </tr>\n",
       "    <tr>\n",
       "      <th>3</th>\n",
       "      <td>Mùi thơm,bôi lên da mềm da</td>\n",
       "      <td>POS</td>\n",
       "    </tr>\n",
       "    <tr>\n",
       "      <th>4</th>\n",
       "      <td>Vải đẹp, dày dặn</td>\n",
       "      <td>POS</td>\n",
       "    </tr>\n",
       "  </tbody>\n",
       "</table>\n",
       "</div>"
      ],
      "text/plain": [
       "                      content label\n",
       "0               Áo bao đẹp ạ!   POS\n",
       "1                   Tuyệt vời   POS\n",
       "2   2day ao khong giong trong   NEG\n",
       "3  Mùi thơm,bôi lên da mềm da   POS\n",
       "4            Vải đẹp, dày dặn   POS"
      ]
     },
     "execution_count": 41,
     "metadata": {},
     "output_type": "execute_result"
    }
   ],
   "source": [
    "col_list = [\"content\", \"label\"]\n",
    "df = pd.read_csv(\"data/data.csv\", usecols=col_list)\n",
    "\n",
    "df.head()"
   ]
  },
  {
   "cell_type": "code",
   "execution_count": 42,
   "metadata": {},
   "outputs": [
    {
     "data": {
      "text/html": [
       "<div>\n",
       "<style scoped>\n",
       "    .dataframe tbody tr th:only-of-type {\n",
       "        vertical-align: middle;\n",
       "    }\n",
       "\n",
       "    .dataframe tbody tr th {\n",
       "        vertical-align: top;\n",
       "    }\n",
       "\n",
       "    .dataframe thead th {\n",
       "        text-align: right;\n",
       "    }\n",
       "</style>\n",
       "<table border=\"1\" class=\"dataframe\">\n",
       "  <thead>\n",
       "    <tr style=\"text-align: right;\">\n",
       "      <th></th>\n",
       "      <th>content</th>\n",
       "      <th>label</th>\n",
       "    </tr>\n",
       "  </thead>\n",
       "  <tbody>\n",
       "    <tr>\n",
       "      <th>0</th>\n",
       "      <td>Áo bao đẹp ạ!</td>\n",
       "      <td>2</td>\n",
       "    </tr>\n",
       "    <tr>\n",
       "      <th>1</th>\n",
       "      <td>Tuyệt vời</td>\n",
       "      <td>2</td>\n",
       "    </tr>\n",
       "    <tr>\n",
       "      <th>2</th>\n",
       "      <td>2day ao khong giong trong</td>\n",
       "      <td>0</td>\n",
       "    </tr>\n",
       "    <tr>\n",
       "      <th>3</th>\n",
       "      <td>Mùi thơm,bôi lên da mềm da</td>\n",
       "      <td>2</td>\n",
       "    </tr>\n",
       "    <tr>\n",
       "      <th>4</th>\n",
       "      <td>Vải đẹp, dày dặn</td>\n",
       "      <td>2</td>\n",
       "    </tr>\n",
       "  </tbody>\n",
       "</table>\n",
       "</div>"
      ],
      "text/plain": [
       "                      content label\n",
       "0               Áo bao đẹp ạ!     2\n",
       "1                   Tuyệt vời     2\n",
       "2   2day ao khong giong trong     0\n",
       "3  Mùi thơm,bôi lên da mềm da     2\n",
       "4            Vải đẹp, dày dặn     2"
      ]
     },
     "execution_count": 42,
     "metadata": {},
     "output_type": "execute_result"
    }
   ],
   "source": [
    "df['label'] = df['label'].replace(['POS'], '2')\n",
    "df['label'] = df['label'].replace(['NEU'], '1')\n",
    "df['label'] = df['label'].replace(['NEG'], '0')\n",
    "\n",
    "df.head()"
   ]
  },
  {
   "cell_type": "code",
   "execution_count": 43,
   "metadata": {},
   "outputs": [],
   "source": [
    "df = df.dropna()\n",
    "df = df.drop_duplicates()"
   ]
  },
  {
   "cell_type": "code",
   "execution_count": 44,
   "metadata": {},
   "outputs": [
    {
     "data": {
      "text/html": [
       "<div>\n",
       "<style scoped>\n",
       "    .dataframe tbody tr th:only-of-type {\n",
       "        vertical-align: middle;\n",
       "    }\n",
       "\n",
       "    .dataframe tbody tr th {\n",
       "        vertical-align: top;\n",
       "    }\n",
       "\n",
       "    .dataframe thead th {\n",
       "        text-align: right;\n",
       "    }\n",
       "</style>\n",
       "<table border=\"1\" class=\"dataframe\">\n",
       "  <thead>\n",
       "    <tr style=\"text-align: right;\">\n",
       "      <th></th>\n",
       "      <th>content</th>\n",
       "      <th>label</th>\n",
       "    </tr>\n",
       "  </thead>\n",
       "  <tbody>\n",
       "    <tr>\n",
       "      <th>0</th>\n",
       "      <td>áo_bao đẹp</td>\n",
       "      <td>2</td>\n",
       "    </tr>\n",
       "    <tr>\n",
       "      <th>1</th>\n",
       "      <td>tuyệt_vời</td>\n",
       "      <td>2</td>\n",
       "    </tr>\n",
       "    <tr>\n",
       "      <th>2</th>\n",
       "      <td>2 day ao khong giong</td>\n",
       "      <td>0</td>\n",
       "    </tr>\n",
       "    <tr>\n",
       "      <th>3</th>\n",
       "      <td>mùi_thơm bôi lên_da mềm da</td>\n",
       "      <td>2</td>\n",
       "    </tr>\n",
       "    <tr>\n",
       "      <th>4</th>\n",
       "      <td>vải đẹp dày_dặn</td>\n",
       "      <td>2</td>\n",
       "    </tr>\n",
       "  </tbody>\n",
       "</table>\n",
       "</div>"
      ],
      "text/plain": [
       "                      content label\n",
       "0                  áo_bao đẹp     2\n",
       "1                   tuyệt_vời     2\n",
       "2        2 day ao khong giong     0\n",
       "3  mùi_thơm bôi lên_da mềm da     2\n",
       "4             vải đẹp dày_dặn     2"
      ]
     },
     "execution_count": 44,
     "metadata": {},
     "output_type": "execute_result"
    }
   ],
   "source": [
    "from data.preprocess import pipeline_preprocess\n",
    "\n",
    "df[\"content\"] = df['content'].fillna('').apply(pipeline_preprocess)\n",
    "\n",
    "df.head()\n"
   ]
  },
  {
   "cell_type": "code",
   "execution_count": 45,
   "metadata": {},
   "outputs": [
    {
     "data": {
      "text/plain": [
       "26810"
      ]
     },
     "execution_count": 45,
     "metadata": {},
     "output_type": "execute_result"
    }
   ],
   "source": [
    "len(df)"
   ]
  },
  {
   "cell_type": "code",
   "execution_count": 46,
   "metadata": {},
   "outputs": [],
   "source": [
    "train, test = train_test_split(df, test_size=0.2, shuffle=True)"
   ]
  },
  {
   "cell_type": "code",
   "execution_count": 47,
   "metadata": {},
   "outputs": [],
   "source": [
    "train.to_csv(\"data/preprocess/sentiment_train.csv\", index=False)\n",
    "test.to_csv(\"data/preprocess/sentiment_test.csv\", index=False)"
   ]
  },
  {
   "cell_type": "code",
   "execution_count": 1,
   "metadata": {},
   "outputs": [],
   "source": [
    "from sklearn.feature_extraction.text import CountVectorizer, TfidfVectorizer\n",
    "from sklearn.feature_extraction.text import TfidfTransformer\n",
    "from sklearn.pipeline import Pipeline\n",
    "from sklearn.metrics import accuracy_score, confusion_matrix, classification_report\n",
    "from sklearn.model_selection import GridSearchCV\n",
    "\n",
    "import numpy as np\n",
    "import pandas as pd"
   ]
  },
  {
   "cell_type": "code",
   "execution_count": 2,
   "metadata": {},
   "outputs": [
    {
     "data": {
      "text/html": [
       "<div>\n",
       "<style scoped>\n",
       "    .dataframe tbody tr th:only-of-type {\n",
       "        vertical-align: middle;\n",
       "    }\n",
       "\n",
       "    .dataframe tbody tr th {\n",
       "        vertical-align: top;\n",
       "    }\n",
       "\n",
       "    .dataframe thead th {\n",
       "        text-align: right;\n",
       "    }\n",
       "</style>\n",
       "<table border=\"1\" class=\"dataframe\">\n",
       "  <thead>\n",
       "    <tr style=\"text-align: right;\">\n",
       "      <th></th>\n",
       "      <th>content</th>\n",
       "      <th>label</th>\n",
       "    </tr>\n",
       "  </thead>\n",
       "  <tbody>\n",
       "    <tr>\n",
       "      <th>0</th>\n",
       "      <td>mong ad điều_chỉnh</td>\n",
       "      <td>0</td>\n",
       "    </tr>\n",
       "    <tr>\n",
       "      <th>1</th>\n",
       "      <td>chất_lượng sản_phẩm tuyệt_vời</td>\n",
       "      <td>2</td>\n",
       "    </tr>\n",
       "    <tr>\n",
       "      <th>2</th>\n",
       "      <td>nhưq mìh áo đen logo trắq giao áo trắq logo đen</td>\n",
       "      <td>1</td>\n",
       "    </tr>\n",
       "    <tr>\n",
       "      <th>3</th>\n",
       "      <td>chất_lượng giấy mềm_mại</td>\n",
       "      <td>2</td>\n",
       "    </tr>\n",
       "    <tr>\n",
       "      <th>4</th>\n",
       "      <td>sp giá tiền</td>\n",
       "      <td>2</td>\n",
       "    </tr>\n",
       "  </tbody>\n",
       "</table>\n",
       "</div>"
      ],
      "text/plain": [
       "                                           content  label\n",
       "0                               mong ad điều_chỉnh      0\n",
       "1                    chất_lượng sản_phẩm tuyệt_vời      2\n",
       "2  nhưq mìh áo đen logo trắq giao áo trắq logo đen      1\n",
       "3                          chất_lượng giấy mềm_mại      2\n",
       "4                                      sp giá tiền      2"
      ]
     },
     "execution_count": 2,
     "metadata": {},
     "output_type": "execute_result"
    }
   ],
   "source": [
    "df = pd.read_csv(\"data/preprocess/sentiment_train.csv\")\n",
    "df = df.dropna()\n",
    "\n",
    "df.head()"
   ]
  },
  {
   "cell_type": "code",
   "execution_count": 3,
   "metadata": {},
   "outputs": [
    {
     "data": {
      "text/plain": [
       "2    12778\n",
       "0     5071\n",
       "1     3466\n",
       "Name: label, dtype: int64"
      ]
     },
     "execution_count": 3,
     "metadata": {},
     "output_type": "execute_result"
    }
   ],
   "source": [
    "target_count = df.label.value_counts()\n",
    "target_count"
   ]
  },
  {
   "cell_type": "code",
   "execution_count": 4,
   "metadata": {},
   "outputs": [],
   "source": [
    "X_train = df['content'].values\n",
    "y_train = df['label'].values\n",
    "\n",
    "X_train = X_train.astype(\"str\")\n",
    "y_train = y_train.astype('int')"
   ]
  },
  {
   "cell_type": "code",
   "execution_count": 5,
   "metadata": {},
   "outputs": [],
   "source": [
    "count_vector = CountVectorizer()\n",
    "model_rf_preprocess = Pipeline([('vect', count_vector),\n",
    "                    ('tfidf', TfidfTransformer()),\n",
    "                    ])\n",
    "X_train_CV = model_rf_preprocess.fit_transform(X_train)"
   ]
  },
  {
   "cell_type": "code",
   "execution_count": 6,
   "metadata": {},
   "outputs": [
    {
     "data": {
      "text/plain": [
       "(21315, 6331)"
      ]
     },
     "execution_count": 6,
     "metadata": {},
     "output_type": "execute_result"
    }
   ],
   "source": [
    "X_train_CV.shape"
   ]
  },
  {
   "cell_type": "code",
   "execution_count": 7,
   "metadata": {},
   "outputs": [
    {
     "data": {
      "text/plain": [
       "(5325, 6331)"
      ]
     },
     "execution_count": 7,
     "metadata": {},
     "output_type": "execute_result"
    }
   ],
   "source": [
    "df_test = pd.read_csv(\"data/preprocess/sentiment_test.csv\")\n",
    "df_test = df_test.dropna()\n",
    "X_test = df_test['content'].values\n",
    "y_test = df_test['label'].values\n",
    "\n",
    "X_test = X_test.astype(\"str\")\n",
    "y_test = y_test.astype('int')\n",
    "\n",
    "X_test_CV = model_rf_preprocess.transform(X_test)\n",
    "X_test_CV.shape"
   ]
  },
  {
   "cell_type": "code",
   "execution_count": 9,
   "metadata": {},
   "outputs": [
    {
     "name": "stdout",
     "output_type": "stream",
     "text": [
      "Resampled dataset shape Counter({2: 12703, 1: 12686, 0: 12671})\n"
     ]
    }
   ],
   "source": [
    "from imblearn.over_sampling import SMOTE\n",
    "from imblearn.combine import SMOTETomek\n",
    "from collections import Counter\n",
    "\n",
    "# smote = SMOTE()\n",
    "smote = SMOTETomek()\n",
    "X_train_CV, y_train = smote.fit_resample(X_train_CV, y_train)\n",
    "\n",
    "print('Resampled dataset shape %s' % Counter(y_train))"
   ]
  },
  {
   "cell_type": "code",
   "execution_count": 8,
   "metadata": {},
   "outputs": [
    {
     "name": "stdout",
     "output_type": "stream",
     "text": [
      "Resampled dataset shape Counter({0: 875, 1: 875, 2: 875})\n"
     ]
    }
   ],
   "source": [
    "from imblearn.under_sampling import RandomUnderSampler\n",
    "from collections import Counter\n",
    "\n",
    "rus = RandomUnderSampler()\n",
    "X_test_CV, y_test = rus.fit_resample(X_test_CV, y_test)\n",
    "\n",
    "print('Resampled dataset shape %s' % Counter(y_test))"
   ]
  },
  {
   "attachments": {},
   "cell_type": "markdown",
   "metadata": {},
   "source": [
    "## Decision Tree"
   ]
  },
  {
   "cell_type": "code",
   "execution_count": null,
   "metadata": {},
   "outputs": [],
   "source": [
    "from ensemble.decisiontree_cart import DecisionTreeClassifier\n",
    "\n",
    "dt = DecisionTreeClassifier(max_depth=5)\n",
    "dt.fit(X_train_CV.toarray(), y_train)\n",
    "\n",
    "print(\"Training complete\")\n",
    "\n",
    "predict = dt.predict(X_test_CV.toarray())\n",
    "\n",
    "print(accuracy_score(y_test, predict))\n",
    "print(confusion_matrix(y_test, predict))\n",
    "print(classification_report(y_test, predict))\n"
   ]
  },
  {
   "cell_type": "code",
   "execution_count": 20,
   "metadata": {},
   "outputs": [
    {
     "name": "stdout",
     "output_type": "stream",
     "text": [
      "Training complete\n",
      "0.5436190476190477\n",
      "[[511 167 197]\n",
      " [267 242 366]\n",
      " [ 78 123 674]]\n",
      "              precision    recall  f1-score   support\n",
      "\n",
      "           0       0.60      0.58      0.59       875\n",
      "           1       0.45      0.28      0.34       875\n",
      "           2       0.54      0.77      0.64       875\n",
      "\n",
      "    accuracy                           0.54      2625\n",
      "   macro avg       0.53      0.54      0.52      2625\n",
      "weighted avg       0.53      0.54      0.52      2625\n",
      "\n"
     ]
    }
   ],
   "source": [
    "from sklearn.tree import DecisionTreeClassifier\n",
    "# param_grid = {\"max_depth\": [7, None]}\n",
    "# dt = GridSearchCV(DecisionTreeClassifier(), param_grid, scoring=\"accuracy\", refit = True, verbose = 10, n_jobs=2, cv=4)\n",
    "\n",
    "dt = DecisionTreeClassifier()\n",
    "dt.fit(X_train_CV.toarray(), y_train)\n",
    "\n",
    "print(\"Training complete\")\n",
    "\n",
    "predict = dt.predict(X_test_CV.toarray())\n",
    "\n",
    "print(accuracy_score(y_test, predict))\n",
    "print(confusion_matrix(y_test, predict))\n",
    "print(classification_report(y_test, predict))"
   ]
  },
  {
   "cell_type": "code",
   "execution_count": null,
   "metadata": {},
   "outputs": [],
   "source": [
    "from ensemble.randomforest import RandomForest\n",
    "\n",
    "\n",
    "rf = RandomForest(n_trees=100, max_depth=6, min_samples_split=2, n_feats=150)\n",
    "rf.fit(X_train_CV.toarray(), y_train)\n",
    "\n",
    "predict = rf.predict(X_test_CV.toarray())\n",
    "\n",
    "print(accuracy_score(y_test, predict))\n",
    "print(confusion_matrix(y_test, predict))"
   ]
  },
  {
   "attachments": {},
   "cell_type": "markdown",
   "metadata": {},
   "source": [
    "## Random Forest"
   ]
  },
  {
   "cell_type": "code",
   "execution_count": 17,
   "metadata": {},
   "outputs": [
    {
     "name": "stdout",
     "output_type": "stream",
     "text": [
      "0.5942857142857143\n",
      "[[571 160 144]\n",
      " [280 269 326]\n",
      " [ 59  96 720]]\n"
     ]
    }
   ],
   "source": [
    "from sklearn.ensemble import RandomForestClassifier\n",
    "\n",
    "# param_grid = {\"max_depth\": [None]}\n",
    "# rf = GridSearchCV(RandomForestClassifier(), param_grid, scoring=\"accuracy\", refit = True, verbose = 10, n_jobs=2, cv=4)\n",
    "rf = RandomForestClassifier(random_state=42)\n",
    "rf.fit(X_train_CV.toarray(), y_train)\n",
    "\n",
    "predict = rf.predict(X_test_CV.toarray())\n",
    "\n",
    "print(accuracy_score(y_test, predict))\n",
    "print(confusion_matrix(y_test, predict))"
   ]
  },
  {
   "attachments": {},
   "cell_type": "markdown",
   "metadata": {},
   "source": [
    "## SVM"
   ]
  },
  {
   "cell_type": "code",
   "execution_count": 9,
   "metadata": {},
   "outputs": [
    {
     "name": "stdout",
     "output_type": "stream",
     "text": [
      "it 1/300, loss = 814.3140998872196\n",
      "it 101/300, loss = 1.6878607905526035\n",
      "it 201/300, loss = 1.6758842429964043\n"
     ]
    }
   ],
   "source": [
    "from ml_lib import MulticlassSVM\n",
    "\n",
    "svm = MulticlassSVM(reg=0.1, lr=0.1, beta1=0.9, beta2=0.999, eps=1e-6, max_epochs=300)\n",
    "svm.fit(X_train_CV.toarray(), y_train, print_every=100)\n",
    "\n",
    "predict = svm.predict(X_test_CV.toarray())\n",
    "\n",
    "print(accuracy_score(y_test, predict))\n",
    "print(confusion_matrix(y_test, predict))\n",
    "print(classification_report(y_test, predict))"
   ]
  },
  {
   "attachments": {},
   "cell_type": "markdown",
   "metadata": {},
   "source": [
    "## KNN"
   ]
  },
  {
   "cell_type": "code",
   "execution_count": 16,
   "metadata": {},
   "outputs": [
    {
     "name": "stdout",
     "output_type": "stream",
     "text": [
      "0.5272380952380953\n",
      "[[500 308  67]\n",
      " [327 411 137]\n",
      " [109 293 473]]\n",
      "              precision    recall  f1-score   support\n",
      "\n",
      "           0       0.53      0.57      0.55       875\n",
      "           1       0.41      0.47      0.44       875\n",
      "           2       0.70      0.54      0.61       875\n",
      "\n",
      "    accuracy                           0.53      2625\n",
      "   macro avg       0.55      0.53      0.53      2625\n",
      "weighted avg       0.55      0.53      0.53      2625\n",
      "\n"
     ]
    }
   ],
   "source": [
    "from sklearn.neighbors import KNeighborsClassifier\n",
    "\n",
    "knn = KNeighborsClassifier(n_neighbors=7, weights='uniform')\n",
    "knn.fit(X_train_CV.toarray(), y_train)\n",
    "\n",
    "predict = knn.predict(X_test_CV.toarray())\n",
    "\n",
    "print(classification_report(y_test, predict))"
   ]
  },
  {
   "attachments": {},
   "cell_type": "markdown",
   "metadata": {},
   "source": [
    "## Softmax Regression"
   ]
  },
  {
   "cell_type": "code",
   "execution_count": 9,
   "metadata": {},
   "outputs": [
    {
     "name": "stdout",
     "output_type": "stream",
     "text": [
      "(3, 21315)\n",
      "0.5653333333333334\n",
      "[[539 122 214]\n",
      " [262 189 424]\n",
      " [ 68  51 756]]\n",
      "              precision    recall  f1-score   support\n",
      "\n",
      "           0       0.62      0.62      0.62       875\n",
      "           1       0.52      0.22      0.31       875\n",
      "           2       0.54      0.86      0.67       875\n",
      "\n",
      "    accuracy                           0.57      2625\n",
      "   macro avg       0.56      0.57      0.53      2625\n",
      "weighted avg       0.56      0.57      0.53      2625\n",
      "\n"
     ]
    }
   ],
   "source": [
    "from ml_lib import SoftmaxRegression\n",
    "# param_grid = {\"lr\": [0.2, 0.3, 0.1], \"max_epochs\": [10000]}\n",
    "# sr = GridSearchCV(SoftmaxRegression(), param_grid, scoring=\"accuracy\", refit = True, verbose = 10, n_jobs=2, cv=5)\n",
    "\n",
    "sr = SoftmaxRegression(lr=0.3, max_epochs=1000)\n",
    "sr.fit(X_train_CV.toarray(), y_train)\n",
    "\n",
    "predict = sr.predict(X_test_CV.toarray())\n",
    "\n",
    "print(accuracy_score(y_test, predict))\n",
    "print(confusion_matrix(y_test, predict))\n",
    "print(classification_report(y_test, predict))"
   ]
  },
  {
   "attachments": {},
   "cell_type": "markdown",
   "metadata": {},
   "source": [
    "## Naive Bayes"
   ]
  },
  {
   "cell_type": "code",
   "execution_count": 37,
   "metadata": {},
   "outputs": [
    {
     "name": "stdout",
     "output_type": "stream",
     "text": [
      "Fitting 5 folds for each of 3 candidates, totalling 15 fits\n"
     ]
    },
    {
     "data": {
      "text/plain": [
       "0.5447619047619048"
      ]
     },
     "execution_count": 37,
     "metadata": {},
     "output_type": "execute_result"
    }
   ],
   "source": [
    "from sklearn.naive_bayes import MultinomialNB\n",
    "\n",
    "param_grid = {\"alpha\": [0.8, 0.1, 0.2]}\n",
    "NB = GridSearchCV(MultinomialNB(), param_grid, scoring=\"accuracy\", refit = True, verbose = 10, n_jobs=2, cv=5)\n",
    "# NB = MultinomialNB(alpha=0.2)\n",
    "NB.fit(X_train_CV.toarray(), y_train)\n",
    "\n",
    "y_pred = NB.predict(X_test_CV.toarray())\n",
    "accuracy_score(y_test, y_pred)"
   ]
  },
  {
   "cell_type": "code",
   "execution_count": 38,
   "metadata": {},
   "outputs": [
    {
     "data": {
      "text/plain": [
       "{'alpha': 0.2}"
      ]
     },
     "execution_count": 38,
     "metadata": {},
     "output_type": "execute_result"
    }
   ],
   "source": [
    "NB.best_params_"
   ]
  },
  {
   "cell_type": "code",
   "execution_count": 16,
   "metadata": {},
   "outputs": [
    {
     "data": {
      "text/plain": [
       "array([[ 745,   59,  452],\n",
       "       [ 234,   71,  570],\n",
       "       [ 168,   44, 2982]], dtype=int64)"
      ]
     },
     "execution_count": 16,
     "metadata": {},
     "output_type": "execute_result"
    }
   ],
   "source": [
    "confusion_matrix(y_test, y_pred)"
   ]
  },
  {
   "cell_type": "code",
   "execution_count": 27,
   "metadata": {},
   "outputs": [
    {
     "name": "stdout",
     "output_type": "stream",
     "text": [
      "0.6266666666666667\n",
      "[[569 217  89]\n",
      " [258 388 229]\n",
      " [ 68 119 688]]\n",
      "              precision    recall  f1-score   support\n",
      "\n",
      "           0       0.64      0.65      0.64       875\n",
      "           1       0.54      0.44      0.49       875\n",
      "           2       0.68      0.79      0.73       875\n",
      "\n",
      "    accuracy                           0.63      2625\n",
      "   macro avg       0.62      0.63      0.62      2625\n",
      "weighted avg       0.62      0.63      0.62      2625\n",
      "\n"
     ]
    }
   ],
   "source": [
    "from ml_lib import MultinomialNaiveBayes\n",
    "\n",
    "# param_grid = {\"alpha\": [0.6, 0.8, 1.2, 1.5]}\n",
    "\n",
    "NB = MultinomialNaiveBayes(alpha=2.0)\n",
    "# NB = GridSearchCV(MultinomialNaiveBayes(), param_grid, scoring=\"accuracy\", refit = True, verbose = 10, n_jobs=2, cv=5)\n",
    "NB.fit(X_train_CV.toarray(), y_train)\n",
    "\n",
    "predict = NB.predict(X_test_CV.toarray())\n",
    "print(accuracy_score(y_test, predict))\n",
    "print(confusion_matrix(y_test, predict))\n",
    "print(classification_report(y_test, predict))"
   ]
  }
 ],
 "metadata": {
  "kernelspec": {
   "display_name": "Python 3",
   "language": "python",
   "name": "python3"
  },
  "language_info": {
   "codemirror_mode": {
    "name": "ipython",
    "version": 3
   },
   "file_extension": ".py",
   "mimetype": "text/x-python",
   "name": "python",
   "nbconvert_exporter": "python",
   "pygments_lexer": "ipython3",
   "version": "3.8.3"
  },
  "orig_nbformat": 4
 },
 "nbformat": 4,
 "nbformat_minor": 2
}
